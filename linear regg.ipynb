{
 "cells": [
  {
   "cell_type": "code",
   "execution_count": 4,
   "id": "08f545a4",
   "metadata": {},
   "outputs": [
    {
     "data": {
      "text/html": [
       "<div>\n",
       "<style scoped>\n",
       "    .dataframe tbody tr th:only-of-type {\n",
       "        vertical-align: middle;\n",
       "    }\n",
       "\n",
       "    .dataframe tbody tr th {\n",
       "        vertical-align: top;\n",
       "    }\n",
       "\n",
       "    .dataframe thead th {\n",
       "        text-align: right;\n",
       "    }\n",
       "</style>\n",
       "<table border=\"1\" class=\"dataframe\">\n",
       "  <thead>\n",
       "    <tr style=\"text-align: right;\">\n",
       "      <th></th>\n",
       "      <th>Waist</th>\n",
       "      <th>AT</th>\n",
       "    </tr>\n",
       "  </thead>\n",
       "  <tbody>\n",
       "    <tr>\n",
       "      <th>0</th>\n",
       "      <td>74.75</td>\n",
       "      <td>25.72</td>\n",
       "    </tr>\n",
       "    <tr>\n",
       "      <th>1</th>\n",
       "      <td>72.60</td>\n",
       "      <td>25.89</td>\n",
       "    </tr>\n",
       "    <tr>\n",
       "      <th>2</th>\n",
       "      <td>81.80</td>\n",
       "      <td>42.60</td>\n",
       "    </tr>\n",
       "    <tr>\n",
       "      <th>3</th>\n",
       "      <td>83.95</td>\n",
       "      <td>42.80</td>\n",
       "    </tr>\n",
       "    <tr>\n",
       "      <th>4</th>\n",
       "      <td>74.65</td>\n",
       "      <td>29.84</td>\n",
       "    </tr>\n",
       "    <tr>\n",
       "      <th>5</th>\n",
       "      <td>71.85</td>\n",
       "      <td>21.68</td>\n",
       "    </tr>\n",
       "    <tr>\n",
       "      <th>6</th>\n",
       "      <td>80.90</td>\n",
       "      <td>29.08</td>\n",
       "    </tr>\n",
       "    <tr>\n",
       "      <th>7</th>\n",
       "      <td>83.40</td>\n",
       "      <td>32.98</td>\n",
       "    </tr>\n",
       "    <tr>\n",
       "      <th>8</th>\n",
       "      <td>63.50</td>\n",
       "      <td>11.44</td>\n",
       "    </tr>\n",
       "    <tr>\n",
       "      <th>9</th>\n",
       "      <td>73.20</td>\n",
       "      <td>32.22</td>\n",
       "    </tr>\n",
       "  </tbody>\n",
       "</table>\n",
       "</div>"
      ],
      "text/plain": [
       "   Waist     AT\n",
       "0  74.75  25.72\n",
       "1  72.60  25.89\n",
       "2  81.80  42.60\n",
       "3  83.95  42.80\n",
       "4  74.65  29.84\n",
       "5  71.85  21.68\n",
       "6  80.90  29.08\n",
       "7  83.40  32.98\n",
       "8  63.50  11.44\n",
       "9  73.20  32.22"
      ]
     },
     "execution_count": 4,
     "metadata": {},
     "output_type": "execute_result"
    }
   ],
   "source": [
    "import pandas as pd\n",
    "wat=pd.read_csv(\"E:/imarticus/execls/wcat.csv\")\n",
    "wat.head(10)"
   ]
  },
  {
   "cell_type": "code",
   "execution_count": 6,
   "id": "d341465f",
   "metadata": {},
   "outputs": [
    {
     "data": {
      "text/plain": [
       "Waist    0\n",
       "AT       0\n",
       "dtype: int64"
      ]
     },
     "execution_count": 6,
     "metadata": {},
     "output_type": "execute_result"
    }
   ],
   "source": [
    "wat.isnull().sum()\n"
   ]
  },
  {
   "cell_type": "code",
   "execution_count": 7,
   "id": "1dd193d6",
   "metadata": {},
   "outputs": [
    {
     "data": {
      "text/plain": [
       "count    109.000000\n",
       "mean      91.901835\n",
       "std       13.559116\n",
       "min       63.500000\n",
       "25%       80.000000\n",
       "50%       90.800000\n",
       "75%      104.000000\n",
       "max      121.000000\n",
       "Name: Waist, dtype: float64"
      ]
     },
     "execution_count": 7,
     "metadata": {},
     "output_type": "execute_result"
    }
   ],
   "source": [
    "wat.Waist.describe()"
   ]
  },
  {
   "cell_type": "code",
   "execution_count": 8,
   "id": "4ce86480",
   "metadata": {},
   "outputs": [
    {
     "data": {
      "text/plain": [
       "count    109.000000\n",
       "mean     101.894037\n",
       "std       57.294763\n",
       "min       11.440000\n",
       "25%       50.880000\n",
       "50%       96.540000\n",
       "75%      137.000000\n",
       "max      253.000000\n",
       "Name: AT, dtype: float64"
      ]
     },
     "execution_count": 8,
     "metadata": {},
     "output_type": "execute_result"
    }
   ],
   "source": [
    "wat.AT.describe()"
   ]
  },
  {
   "cell_type": "code",
   "execution_count": 9,
   "id": "c830c516",
   "metadata": {},
   "outputs": [
    {
     "data": {
      "text/plain": [
       "<AxesSubplot:>"
      ]
     },
     "execution_count": 9,
     "metadata": {},
     "output_type": "execute_result"
    },
    {
     "data": {
      "image/png": "[encoded data removed]",
      "text/plain": [
       "<Figure size 432x288 with 1 Axes>"
      ]
     },
     "metadata": {
      "needs_background": "light"
     },
     "output_type": "display_data"
    }
   ],
   "source": [
    "wat.Waist.hist()\n",
    "wat.AT.hist()\n"
   ]
  },
  {
   "cell_type": "code",
   "execution_count": 10,
   "id": "f5a2cab1",
   "metadata": {},
   "outputs": [
    {
     "data": {
      "text/plain": [
       "<AxesSubplot:>"
      ]
     },
     "execution_count": 10,
     "metadata": {},
     "output_type": "execute_result"
    },
    {
     "data": {
      "image/png": "[encoded data removed]",
      "text/plain": [
       "<Figure size 432x288 with 1 Axes>"
      ]
     },
     "metadata": {
      "needs_background": "light"
     },
     "output_type": "display_data"
    }
   ],
   "source": [
    "wat.AT.hist()\n"
   ]
  },
  {
   "cell_type": "code",
   "execution_count": 11,
   "id": "1aa8a131",
   "metadata": {},
   "outputs": [
    {
     "data": {
      "text/plain": [
       "<AxesSubplot:>"
      ]
     },
     "execution_count": 11,
     "metadata": {},
     "output_type": "execute_result"
    },
    {
     "data": {
      "image/png": "[encoded data removed]",
      "text/plain": [
       "<Figure size 432x288 with 1 Axes>"
      ]
     },
     "metadata": {
      "needs_background": "light"
     },
     "output_type": "display_data"
    }
   ],
   "source": [
    "wat.Waist.hist()\n"
   ]
  },
  {
   "cell_type": "code",
   "execution_count": 12,
   "id": "24ed9410",
   "metadata": {},
   "outputs": [
    {
     "data": {
      "text/plain": [
       "ShapiroResult(statistic=0.9558578133583069, pvalue=0.001170447445474565)"
      ]
     },
     "execution_count": 12,
     "metadata": {},
     "output_type": "execute_result"
    }
   ],
   "source": [
    "from scipy import stats\n",
    "stats.shapiro(wat.Waist)"
   ]
  },
  {
   "cell_type": "code",
   "execution_count": 13,
   "id": "ed854251",
   "metadata": {},
   "outputs": [
    {
     "data": {
      "text/plain": [
       "ShapiroResult(statistic=0.9523370265960693, pvalue=0.0006539996829815209)"
      ]
     },
     "execution_count": 13,
     "metadata": {},
     "output_type": "execute_result"
    }
   ],
   "source": [
    "from scipy import stats\n",
    "stats.shapiro(wat.AT)"
   ]
  },
  {
   "cell_type": "code",
   "execution_count": 15,
   "id": "3f3ea6b7",
   "metadata": {},
   "outputs": [
    {
     "data": {
      "text/plain": [
       "<AxesSubplot:>"
      ]
     },
     "execution_count": 15,
     "metadata": {},
     "output_type": "execute_result"
    },
    {
     "data": {
      "image/png": "[encoded data removed]",
      "text/plain": [
       "<Figure size 432x288 with 1 Axes>"
      ]
     },
     "metadata": {
      "needs_background": "light"
     },
     "output_type": "display_data"
    }
   ],
   "source": [
    "wat.boxplot()"
   ]
  },
  {
   "cell_type": "code",
   "execution_count": 16,
   "id": "d03029b1",
   "metadata": {},
   "outputs": [
    {
     "data": {
      "text/plain": [
       "{'whiskers': [<matplotlib.lines.Line2D at 0x21dc24c6640>,\n",
       "  <matplotlib.lines.Line2D at 0x21dc24c69d0>],\n",
       " 'caps': [<matplotlib.lines.Line2D at 0x21dc24c6d60>,\n",
       "  <matplotlib.lines.Line2D at 0x21dc24d3130>],\n",
       " 'boxes': [<matplotlib.lines.Line2D at 0x21dc24c62b0>],\n",
       " 'medians': [<matplotlib.lines.Line2D at 0x21dc24d34c0>],\n",
       " 'fliers': [<matplotlib.lines.Line2D at 0x21dc24d3850>],\n",
       " 'means': []}"
      ]
     },
     "execution_count": 16,
     "metadata": {},
     "output_type": "execute_result"
    },
    {
     "data": {
      "image/png": "[encoded data removed]",
      "text/plain": [
       "<Figure size 432x288 with 1 Axes>"
      ]
     },
     "metadata": {
      "needs_background": "light"
     },
     "output_type": "display_data"
    }
   ],
   "source": [
    "import matplotlib.pyplot as plt\n",
    "plt.boxplot(wat.AT)\n"
   ]
  },
  {
   "cell_type": "code",
   "execution_count": 17,
   "id": "99bcc41d",
   "metadata": {},
   "outputs": [
    {
     "data": {
      "text/plain": [
       "{'whiskers': [<matplotlib.lines.Line2D at 0x21dc2525fd0>,\n",
       "  <matplotlib.lines.Line2D at 0x21dc25343a0>],\n",
       " 'caps': [<matplotlib.lines.Line2D at 0x21dc2534730>,\n",
       "  <matplotlib.lines.Line2D at 0x21dc2534ac0>],\n",
       " 'boxes': [<matplotlib.lines.Line2D at 0x21dc2525c40>],\n",
       " 'medians': [<matplotlib.lines.Line2D at 0x21dc2534e50>],\n",
       " 'fliers': [<matplotlib.lines.Line2D at 0x21dc253f220>],\n",
       " 'means': []}"
      ]
     },
     "execution_count": 17,
     "metadata": {},
     "output_type": "execute_result"
    },
    {
     "data": {
      "image/png": "[encoded data removed]",
      "text/plain": [
       "<Figure size 432x288 with 1 Axes>"
      ]
     },
     "metadata": {
      "needs_background": "light"
     },
     "output_type": "display_data"
    }
   ],
   "source": [
    "import matplotlib.pyplot as plt\n",
    "plt.boxplot(wat.Waist)\n"
   ]
  },
  {
   "cell_type": "code",
   "execution_count": 18,
   "id": "7d9da6ac",
   "metadata": {},
   "outputs": [
    {
     "data": {
      "text/plain": [
       "Waist  AT    \n",
       "63.5   11.44     1\n",
       "100.0  123.00    1\n",
       "104.0  127.00    1\n",
       "103.5  132.00    1\n",
       "103.0  129.00    1\n",
       "                ..\n",
       "82.0   45.84     1\n",
       "81.8   42.60     1\n",
       "80.9   40.25     1\n",
       "       29.08     1\n",
       "121.0  245.00    1\n",
       "Length: 109, dtype: int64"
      ]
     },
     "execution_count": 18,
     "metadata": {},
     "output_type": "execute_result"
    }
   ],
   "source": [
    "wat.value_counts()"
   ]
  },
  {
   "cell_type": "code",
   "execution_count": 20,
   "id": "cc840529",
   "metadata": {},
   "outputs": [
    {
     "data": {
      "text/plain": [
       "{'whiskers': [<matplotlib.lines.Line2D at 0x21dc2879df0>,\n",
       "  <matplotlib.lines.Line2D at 0x21dc28891c0>],\n",
       " 'caps': [<matplotlib.lines.Line2D at 0x21dc2889550>,\n",
       "  <matplotlib.lines.Line2D at 0x21dc28898e0>],\n",
       " 'boxes': [<matplotlib.lines.Line2D at 0x21dc2879a60>],\n",
       " 'medians': [<matplotlib.lines.Line2D at 0x21dc2889c70>],\n",
       " 'fliers': [<matplotlib.lines.Line2D at 0x21dc2893040>],\n",
       " 'means': []}"
      ]
     },
     "execution_count": 20,
     "metadata": {},
     "output_type": "execute_result"
    },
    {
     "data": {
      "image/png": "[encoded data removed]",
      "text/plain": [
       "<Figure size 432x288 with 2 Axes>"
      ]
     },
     "metadata": {
      "needs_background": "light"
     },
     "output_type": "display_data"
    }
   ],
   "source": [
    "#subplot for dividing the ploting area \n",
    "plt.subplot(1,2,1)\n",
    "plt.boxplot(wat.Waist)\n",
    "plt.subplot(1,2,2)\n",
    "plt.boxplot(wat.AT)\n",
    "\n"
   ]
  },
  {
   "cell_type": "code",
   "execution_count": 21,
   "id": "adefe40f",
   "metadata": {},
   "outputs": [
    {
     "data": {
      "text/plain": [
       "Waist    71.90\n",
       "AT       28.32\n",
       "Name: 10, dtype: float64"
      ]
     },
     "execution_count": 21,
     "metadata": {},
     "output_type": "execute_result"
    }
   ],
   "source": [
    "wat.iloc[10,:] #index location\n"
   ]
  },
  {
   "cell_type": "code",
   "execution_count": 22,
   "id": "8694551a",
   "metadata": {},
   "outputs": [
    {
     "data": {
      "text/plain": [
       "Waist    103.5\n",
       "AT       132.0\n",
       "Name: 80, dtype: float64"
      ]
     },
     "execution_count": 22,
     "metadata": {},
     "output_type": "execute_result"
    }
   ],
   "source": [
    "wat.iloc[80,:]"
   ]
  },
  {
   "cell_type": "code",
   "execution_count": 23,
   "id": "48f15d00",
   "metadata": {},
   "outputs": [
    {
     "data": {
      "text/html": [
       "<div>\n",
       "<style scoped>\n",
       "    .dataframe tbody tr th:only-of-type {\n",
       "        vertical-align: middle;\n",
       "    }\n",
       "\n",
       "    .dataframe tbody tr th {\n",
       "        vertical-align: top;\n",
       "    }\n",
       "\n",
       "    .dataframe thead th {\n",
       "        text-align: right;\n",
       "    }\n",
       "</style>\n",
       "<table border=\"1\" class=\"dataframe\">\n",
       "  <thead>\n",
       "    <tr style=\"text-align: right;\">\n",
       "      <th></th>\n",
       "      <th>Waist</th>\n",
       "      <th>AT</th>\n",
       "    </tr>\n",
       "  </thead>\n",
       "  <tbody>\n",
       "    <tr>\n",
       "      <th>0</th>\n",
       "      <td>74.75</td>\n",
       "      <td>25.72</td>\n",
       "    </tr>\n",
       "    <tr>\n",
       "      <th>1</th>\n",
       "      <td>72.60</td>\n",
       "      <td>25.89</td>\n",
       "    </tr>\n",
       "    <tr>\n",
       "      <th>2</th>\n",
       "      <td>81.80</td>\n",
       "      <td>42.60</td>\n",
       "    </tr>\n",
       "    <tr>\n",
       "      <th>3</th>\n",
       "      <td>83.95</td>\n",
       "      <td>42.80</td>\n",
       "    </tr>\n",
       "    <tr>\n",
       "      <th>4</th>\n",
       "      <td>74.65</td>\n",
       "      <td>29.84</td>\n",
       "    </tr>\n",
       "    <tr>\n",
       "      <th>...</th>\n",
       "      <td>...</td>\n",
       "      <td>...</td>\n",
       "    </tr>\n",
       "    <tr>\n",
       "      <th>75</th>\n",
       "      <td>100.00</td>\n",
       "      <td>140.00</td>\n",
       "    </tr>\n",
       "    <tr>\n",
       "      <th>76</th>\n",
       "      <td>103.00</td>\n",
       "      <td>109.00</td>\n",
       "    </tr>\n",
       "    <tr>\n",
       "      <th>77</th>\n",
       "      <td>104.00</td>\n",
       "      <td>127.00</td>\n",
       "    </tr>\n",
       "    <tr>\n",
       "      <th>78</th>\n",
       "      <td>106.00</td>\n",
       "      <td>112.00</td>\n",
       "    </tr>\n",
       "    <tr>\n",
       "      <th>79</th>\n",
       "      <td>109.00</td>\n",
       "      <td>192.00</td>\n",
       "    </tr>\n",
       "  </tbody>\n",
       "</table>\n",
       "<p>80 rows × 2 columns</p>\n",
       "</div>"
      ],
      "text/plain": [
       "     Waist      AT\n",
       "0    74.75   25.72\n",
       "1    72.60   25.89\n",
       "2    81.80   42.60\n",
       "3    83.95   42.80\n",
       "4    74.65   29.84\n",
       "..     ...     ...\n",
       "75  100.00  140.00\n",
       "76  103.00  109.00\n",
       "77  104.00  127.00\n",
       "78  106.00  112.00\n",
       "79  109.00  192.00\n",
       "\n",
       "[80 rows x 2 columns]"
      ]
     },
     "execution_count": 23,
     "metadata": {},
     "output_type": "execute_result"
    }
   ],
   "source": [
    "wat.iloc[:80] "
   ]
  },
  {
   "cell_type": "code",
   "execution_count": 24,
   "id": "09b85253",
   "metadata": {},
   "outputs": [],
   "source": [
    "waist=wat.iloc[:80] "
   ]
  },
  {
   "cell_type": "code",
   "execution_count": 25,
   "id": "824c535e",
   "metadata": {},
   "outputs": [
    {
     "data": {
      "text/plain": [
       "(109, 2)"
      ]
     },
     "execution_count": 25,
     "metadata": {},
     "output_type": "execute_result"
    }
   ],
   "source": [
    "wat.shape"
   ]
  },
  {
   "cell_type": "code",
   "execution_count": 26,
   "id": "2f6fd0d7",
   "metadata": {},
   "outputs": [],
   "source": [
    "train=wat.iloc[:88]"
   ]
  },
  {
   "cell_type": "code",
   "execution_count": 27,
   "id": "4e364663",
   "metadata": {},
   "outputs": [
    {
     "name": "stdout",
     "output_type": "stream",
     "text": [
      "     Waist      AT\n",
      "0    74.75   25.72\n",
      "1    72.60   25.89\n",
      "2    81.80   42.60\n",
      "3    83.95   42.80\n",
      "4    74.65   29.84\n",
      "..     ...     ...\n",
      "83  112.00  158.00\n",
      "84  108.50  183.00\n",
      "85  104.00  184.00\n",
      "86  111.00  121.00\n",
      "87  108.50  159.00\n",
      "\n",
      "[88 rows x 2 columns]\n"
     ]
    }
   ],
   "source": [
    "print(train)"
   ]
  },
  {
   "cell_type": "code",
   "execution_count": 28,
   "id": "df552c98",
   "metadata": {},
   "outputs": [
    {
     "name": "stdout",
     "output_type": "stream",
     "text": [
      "     Waist      AT\n",
      "88   121.0  245.00\n",
      "89   109.0  137.00\n",
      "90    97.5  165.00\n",
      "91   105.5  152.00\n",
      "92    98.0  181.00\n",
      "93    94.5   80.95\n",
      "94    97.0  137.00\n",
      "95   105.0  125.00\n",
      "96   106.0  241.00\n",
      "97    99.0  134.00\n",
      "98    91.0  150.00\n",
      "99   102.5  198.00\n",
      "100  106.0  151.00\n",
      "101  109.1  229.00\n",
      "102  115.0  253.00\n",
      "103  101.0  188.00\n",
      "104  100.1  124.00\n",
      "105   93.3   62.20\n",
      "106  101.8  133.00\n",
      "107  107.9  208.00\n",
      "108  108.5  208.00\n"
     ]
    }
   ],
   "source": [
    "test=wat.iloc[88:]\n",
    "print(test)"
   ]
  },
  {
   "cell_type": "code",
   "execution_count": 29,
   "id": "2535e0f9",
   "metadata": {},
   "outputs": [
    {
     "data": {
      "text/plain": [
       "(21, 2)"
      ]
     },
     "execution_count": 29,
     "metadata": {},
     "output_type": "execute_result"
    }
   ],
   "source": [
    "test.shape"
   ]
  },
  {
   "cell_type": "code",
   "execution_count": 30,
   "id": "b01625a1",
   "metadata": {},
   "outputs": [],
   "source": [
    "train=wat.iloc[:87]\n",
    "test=wat.iloc[87:]\n"
   ]
  },
  {
   "cell_type": "code",
   "execution_count": 31,
   "id": "290330ce",
   "metadata": {},
   "outputs": [
    {
     "data": {
      "text/plain": [
       "(22, 2)"
      ]
     },
     "execution_count": 31,
     "metadata": {},
     "output_type": "execute_result"
    }
   ],
   "source": [
    "train.shape\n",
    "test.shape"
   ]
  },
  {
   "cell_type": "code",
   "execution_count": 32,
   "id": "6f885419",
   "metadata": {},
   "outputs": [
    {
     "data": {
      "text/plain": [
       "(87, 2)"
      ]
     },
     "execution_count": 32,
     "metadata": {},
     "output_type": "execute_result"
    }
   ],
   "source": [
    "train.shape\n"
   ]
  },
  {
   "cell_type": "code",
   "execution_count": 33,
   "id": "1d6c1ce1",
   "metadata": {},
   "outputs": [
    {
     "data": {
      "text/plain": [
       "<AxesSubplot:>"
      ]
     },
     "execution_count": 33,
     "metadata": {},
     "output_type": "execute_result"
    },
    {
     "data": {
      "image/png": "[encoded data removed]",
      "text/plain": [
       "<Figure size 432x288 with 1 Axes>"
      ]
     },
     "metadata": {
      "needs_background": "light"
     },
     "output_type": "display_data"
    }
   ],
   "source": [
    "import seaborn as sns\n",
    "sns.scatterplot(data=wat)"
   ]
  },
  {
   "cell_type": "code",
   "execution_count": 35,
   "id": "fdcd4ccc",
   "metadata": {},
   "outputs": [
    {
     "data": {
      "text/plain": [
       "<AxesSubplot:xlabel='Waist', ylabel='AT'>"
      ]
     },
     "execution_count": 35,
     "metadata": {},
     "output_type": "execute_result"
    },
    {
     "data": {
      "image/png": "[encoded data removed]",
      "text/plain": [
       "<Figure size 432x288 with 1 Axes>"
      ]
     },
     "metadata": {
      "needs_background": "light"
     },
     "output_type": "display_data"
    }
   ],
   "source": [
    "sns.scatterplot(x='Waist',y='AT',data=wat)"
   ]
  },
  {
   "cell_type": "code",
   "execution_count": 36,
   "id": "e1d54b83",
   "metadata": {},
   "outputs": [
    {
     "data": {
      "text/plain": [
       "(0.8185578128958533, 1.6186065693841312e-27)"
      ]
     },
     "execution_count": 36,
     "metadata": {},
     "output_type": "execute_result"
    }
   ],
   "source": [
    "#pearson correlation test\n",
    "from scipy import stats\n",
    "stats.pearsonr(wat.Waist,wat.AT)\n",
    "#r values represents the strength and the direction of the relation"
   ]
  },
  {
   "cell_type": "markdown",
   "id": "4b853535",
   "metadata": {},
   "source": [
    "<h3>r=correlation cofficient\n",
    "    here,r is moderately positive\n",
    "    <br>directly proportional-+vecorrelation\n",
    "    inversely proportional=-ve corelation  </h3>\n",
    "      \n",
    "                                                                  "
   ]
  },
  {
   "cell_type": "markdown",
   "id": "add988df",
   "metadata": {},
   "source": [
    "<h3> if p lesser than alpha reject h0, H0=x does not affect y ,H1=x affect y </h3>"
   ]
  },
  {
   "cell_type": "markdown",
   "id": "f57d4356",
   "metadata": {},
   "source": [
    "<h3>  |-------------|----------------|--------------------------------|------------|--------------| <br>\n",
    "     -1  strong    -0.9  medium    -0.7       weak                  0.7   medium   0.9  strong    1  </h3>"
   ]
  },
  {
   "cell_type": "code",
   "execution_count": 38,
   "id": "4e4d8e3e",
   "metadata": {},
   "outputs": [],
   "source": [
    "import statsmodels.api as sm"
   ]
  },
  {
   "cell_type": "code",
   "execution_count": 40,
   "id": "3f3b5f25",
   "metadata": {},
   "outputs": [],
   "source": [
    "#divide train data as X and Y\n",
    "train_x=train.Waist\n",
    "train_y=train.AT\n",
    "train_x=sm.add_constant(train_x)"
   ]
  },
  {
   "cell_type": "code",
   "execution_count": 49,
   "id": "3980420e",
   "metadata": {},
   "outputs": [],
   "source": [
    "model=sm.OLS(train_y,train_x).fit() #Ordinary Least Square"
   ]
  },
  {
   "cell_type": "code",
   "execution_count": 50,
   "id": "50757acc",
   "metadata": {},
   "outputs": [
    {
     "data": {
      "text/html": [
       "<table class=\"simpletable\">\n",
       "<caption>OLS Regression Results</caption>\n",
       "<tr>\n",
       "  <th>Dep. Variable:</th>           <td>AT</td>        <th>  R-squared:         </th> <td>   0.652</td>\n",
       "</tr>\n",
       "<tr>\n",
       "  <th>Model:</th>                   <td>OLS</td>       <th>  Adj. R-squared:    </th> <td>   0.648</td>\n",
       "</tr>\n",
       "<tr>\n",
       "  <th>Method:</th>             <td>Least Squares</td>  <th>  F-statistic:       </th> <td>   159.4</td>\n",
       "</tr>\n",
       "<tr>\n",
       "  <th>Date:</th>             <td>Tue, 29 Mar 2022</td> <th>  Prob (F-statistic):</th> <td>3.42e-21</td>\n",
       "</tr>\n",
       "<tr>\n",
       "  <th>Time:</th>                 <td>15:40:16</td>     <th>  Log-Likelihood:    </th> <td> -410.85</td>\n",
       "</tr>\n",
       "<tr>\n",
       "  <th>No. Observations:</th>      <td>    87</td>      <th>  AIC:               </th> <td>   825.7</td>\n",
       "</tr>\n",
       "<tr>\n",
       "  <th>Df Residuals:</th>          <td>    85</td>      <th>  BIC:               </th> <td>   830.6</td>\n",
       "</tr>\n",
       "<tr>\n",
       "  <th>Df Model:</th>              <td>     1</td>      <th>                     </th>     <td> </td>   \n",
       "</tr>\n",
       "<tr>\n",
       "  <th>Covariance Type:</th>      <td>nonrobust</td>    <th>                     </th>     <td> </td>   \n",
       "</tr>\n",
       "</table>\n",
       "<table class=\"simpletable\">\n",
       "<tr>\n",
       "    <td></td>       <th>coef</th>     <th>std err</th>      <th>t</th>      <th>P>|t|</th>  <th>[0.025</th>    <th>0.975]</th>  \n",
       "</tr>\n",
       "<tr>\n",
       "  <th>const</th> <td> -166.3202</td> <td>   20.170</td> <td>   -8.246</td> <td> 0.000</td> <td> -206.423</td> <td> -126.217</td>\n",
       "</tr>\n",
       "<tr>\n",
       "  <th>Waist</th> <td>    2.8314</td> <td>    0.224</td> <td>   12.625</td> <td> 0.000</td> <td>    2.385</td> <td>    3.277</td>\n",
       "</tr>\n",
       "</table>\n",
       "<table class=\"simpletable\">\n",
       "<tr>\n",
       "  <th>Omnibus:</th>       <td> 6.735</td> <th>  Durbin-Watson:     </th> <td>   1.627</td>\n",
       "</tr>\n",
       "<tr>\n",
       "  <th>Prob(Omnibus):</th> <td> 0.034</td> <th>  Jarque-Bera (JB):  </th> <td>   7.950</td>\n",
       "</tr>\n",
       "<tr>\n",
       "  <th>Skew:</th>          <td> 0.371</td> <th>  Prob(JB):          </th> <td>  0.0188</td>\n",
       "</tr>\n",
       "<tr>\n",
       "  <th>Kurtosis:</th>      <td> 4.281</td> <th>  Cond. No.          </th> <td>    615.</td>\n",
       "</tr>\n",
       "</table><br/><br/>Notes:<br/>[1] Standard Errors assume that the covariance matrix of the errors is correctly specified."
      ],
      "text/plain": [
       "<class 'statsmodels.iolib.summary.Summary'>\n",
       "\"\"\"\n",
       "                            OLS Regression Results                            \n",
       "==============================================================================\n",
       "Dep. Variable:                     AT   R-squared:                       0.652\n",
       "Model:                            OLS   Adj. R-squared:                  0.648\n",
       "Method:                 Least Squares   F-statistic:                     159.4\n",
       "Date:                Tue, 29 Mar 2022   Prob (F-statistic):           3.42e-21\n",
       "Time:                        15:40:16   Log-Likelihood:                -410.85\n",
       "No. Observations:                  87   AIC:                             825.7\n",
       "Df Residuals:                      85   BIC:                             830.6\n",
       "Df Model:                           1                                         \n",
       "Covariance Type:            nonrobust                                         \n",
       "==============================================================================\n",
       "                 coef    std err          t      P>|t|      [0.025      0.975]\n",
       "------------------------------------------------------------------------------\n",
       "const       -166.3202     20.170     -8.246      0.000    -206.423    -126.217\n",
       "Waist          2.8314      0.224     12.625      0.000       2.385       3.277\n",
       "==============================================================================\n",
       "Omnibus:                        6.735   Durbin-Watson:                   1.627\n",
       "Prob(Omnibus):                  0.034   Jarque-Bera (JB):                7.950\n",
       "Skew:                           0.371   Prob(JB):                       0.0188\n",
       "Kurtosis:                       4.281   Cond. No.                         615.\n",
       "==============================================================================\n",
       "\n",
       "Notes:\n",
       "[1] Standard Errors assume that the covariance matrix of the errors is correctly specified.\n",
       "\"\"\""
      ]
     },
     "execution_count": 50,
     "metadata": {},
     "output_type": "execute_result"
    }
   ],
   "source": [
    "model.summary()"
   ]
  },
  {
   "cell_type": "markdown",
   "id": "98634c21",
   "metadata": {},
   "source": [
    "<h4> const-> coef=-166 // Waist-->coef=2.83 // AT=2.83(waist)-166 -->eqn <br>\n",
    "     R-squared is accuracy of the system // Adjusted R squared is used frequently // <br>\n",
    "    std.err=standard error is sigma/n in confidence interval // [0.025\t0.975]=C.I // <br>\n",
    "    Df Residuals-distance between each points </h4>"
   ]
  },
  {
   "cell_type": "code",
   "execution_count": 51,
   "id": "5d56da61",
   "metadata": {},
   "outputs": [
    {
     "data": {
      "text/plain": [
       "const   -166.32024\n",
       "Waist      2.83138\n",
       "dtype: float64"
      ]
     },
     "execution_count": 51,
     "metadata": {},
     "output_type": "execute_result"
    }
   ],
   "source": [
    "model.params #for coefficient"
   ]
  },
  {
   "cell_type": "code",
   "execution_count": 54,
   "id": "b8290475",
   "metadata": {},
   "outputs": [
    {
     "data": {
      "text/plain": [
       "87     140.884442\n",
       "88     176.276686\n",
       "89     142.300131\n",
       "90     109.739266\n",
       "91     132.390303\n",
       "92     111.154956\n",
       "93     101.245128\n",
       "94     108.323577\n",
       "95     130.974613\n",
       "96     133.805993\n",
       "97     113.986336\n",
       "98      91.335299\n",
       "99     123.896164\n",
       "100    133.805993\n",
       "101    142.583269\n",
       "102    159.288409\n",
       "103    119.649095\n",
       "104    117.100853\n",
       "105     97.847472\n",
       "106    121.914199\n",
       "107    139.185614\n",
       "108    140.884442\n",
       "dtype: float64"
      ]
     },
     "execution_count": 54,
     "metadata": {},
     "output_type": "execute_result"
    }
   ],
   "source": [
    "#testing with test data\n",
    "test_x=test.Waist\n",
    "text_y=test.AT\n",
    "test_x=sm.add_constant(test_x)\n",
    "model.predict(test_x)"
   ]
  },
  {
   "cell_type": "code",
   "execution_count": 56,
   "id": "bc731ba6",
   "metadata": {},
   "outputs": [
    {
     "data": {
      "text/plain": [
       "0      25.72\n",
       "1      25.89\n",
       "2      42.60\n",
       "3      42.80\n",
       "4      29.84\n",
       "       ...  \n",
       "82    153.00\n",
       "83    158.00\n",
       "84    183.00\n",
       "85    184.00\n",
       "86    121.00\n",
       "Name: AT, Length: 87, dtype: float64"
      ]
     },
     "execution_count": 56,
     "metadata": {},
     "output_type": "execute_result"
    }
   ],
   "source": [
    "train_y"
   ]
  },
  {
   "cell_type": "code",
   "execution_count": 61,
   "id": "3f18af09",
   "metadata": {},
   "outputs": [
    {
     "ename": "AttributeError",
     "evalue": "'OLSResults' object has no attribute 'score'",
     "output_type": "error",
     "traceback": [
      "\u001b[1;31m---------------------------------------------------------------------------\u001b[0m",
      "\u001b[1;31mAttributeError\u001b[0m                            Traceback (most recent call last)",
      "\u001b[1;32m~\\AppData\\Local\\Temp/ipykernel_16068/1819968751.py\u001b[0m in \u001b[0;36m<module>\u001b[1;34m\u001b[0m\n\u001b[0;32m      1\u001b[0m \u001b[1;31m#comparison\u001b[0m\u001b[1;33m\u001b[0m\u001b[1;33m\u001b[0m\u001b[0m\n\u001b[1;32m----> 2\u001b[1;33m \u001b[0mpredicted_test\u001b[0m\u001b[1;33m=\u001b[0m\u001b[0mmodel\u001b[0m\u001b[1;33m.\u001b[0m\u001b[0mscore\u001b[0m\u001b[1;33m(\u001b[0m\u001b[0mtest_x\u001b[0m\u001b[1;33m,\u001b[0m\u001b[0mtest_y\u001b[0m\u001b[1;33m)\u001b[0m\u001b[1;33m\u001b[0m\u001b[1;33m\u001b[0m\u001b[0m\n\u001b[0m",
      "\u001b[1;32m~\\anaconda3\\lib\\site-packages\\statsmodels\\base\\wrapper.py\u001b[0m in \u001b[0;36m__getattribute__\u001b[1;34m(self, attr)\u001b[0m\n\u001b[0;32m     32\u001b[0m             \u001b[1;32mpass\u001b[0m\u001b[1;33m\u001b[0m\u001b[1;33m\u001b[0m\u001b[0m\n\u001b[0;32m     33\u001b[0m \u001b[1;33m\u001b[0m\u001b[0m\n\u001b[1;32m---> 34\u001b[1;33m         \u001b[0mobj\u001b[0m \u001b[1;33m=\u001b[0m \u001b[0mgetattr\u001b[0m\u001b[1;33m(\u001b[0m\u001b[0mresults\u001b[0m\u001b[1;33m,\u001b[0m \u001b[0mattr\u001b[0m\u001b[1;33m)\u001b[0m\u001b[1;33m\u001b[0m\u001b[1;33m\u001b[0m\u001b[0m\n\u001b[0m\u001b[0;32m     35\u001b[0m         \u001b[0mdata\u001b[0m \u001b[1;33m=\u001b[0m \u001b[0mresults\u001b[0m\u001b[1;33m.\u001b[0m\u001b[0mmodel\u001b[0m\u001b[1;33m.\u001b[0m\u001b[0mdata\u001b[0m\u001b[1;33m\u001b[0m\u001b[1;33m\u001b[0m\u001b[0m\n\u001b[0;32m     36\u001b[0m         \u001b[0mhow\u001b[0m \u001b[1;33m=\u001b[0m \u001b[0mself\u001b[0m\u001b[1;33m.\u001b[0m\u001b[0m_wrap_attrs\u001b[0m\u001b[1;33m.\u001b[0m\u001b[0mget\u001b[0m\u001b[1;33m(\u001b[0m\u001b[0mattr\u001b[0m\u001b[1;33m)\u001b[0m\u001b[1;33m\u001b[0m\u001b[1;33m\u001b[0m\u001b[0m\n",
      "\u001b[1;31mAttributeError\u001b[0m: 'OLSResults' object has no attribute 'score'"
     ]
    }
   ],
   "source": [
    "#comparison\n",
    "predicted_test=model.score(test_x,test_y)"
   ]
  },
  {
   "cell_type": "code",
   "execution_count": null,
   "id": "e2ac2342",
   "metadata": {},
   "outputs": [],
   "source": []
  }
 ],
 "metadata": {
  "kernelspec": {
   "display_name": "Python 3 (ipykernel)",
   "language": "python",
   "name": "python3"
  },
  "language_info": {
   "codemirror_mode": {
    "name": "ipython",
    "version": 3
   },
   "file_extension": ".py",
   "mimetype": "text/x-python",
   "name": "python",
   "nbconvert_exporter": "python",
   "pygments_lexer": "ipython3",
   "version": "3.9.7"
  }
 },
 "nbformat": 4,
 "nbformat_minor": 5
}
